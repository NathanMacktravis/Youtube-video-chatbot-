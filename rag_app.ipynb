{
 "cells": [
  {
   "cell_type": "markdown",
   "metadata": {},
   "source": [
    "![Image de présentation de l'appli](Images/image1.png)\n"
   ]
  },
  {
   "cell_type": "markdown",
   "metadata": {},
   "source": [
    "# 1) Setting up our model "
   ]
  },
  {
   "cell_type": "code",
   "execution_count": 44,
   "metadata": {},
   "outputs": [],
   "source": [
    "import os \n",
    "from dotenv import load_dotenv\n",
    "\n",
    "load_dotenv()\n",
    "\n",
    "openai_api_key = os.environ.get(\"OPENAI_API_KEY\")\n",
    "# The link of youtube video that we gona to use \n",
    "#(I use an external site web to download the audio, because youtube api was disturbing)\n",
    "YOUTUBE_AUDIO =  \"/Users/nathanwandji/Downloads/youtube_audio.mp3\"\n",
    "\n"
   ]
  },
  {
   "cell_type": "markdown",
   "metadata": {},
   "source": [
    "Define the LLM model that we will use"
   ]
  },
  {
   "cell_type": "code",
   "execution_count": 43,
   "metadata": {},
   "outputs": [],
   "source": [
    "from langchain_openai.chat_models import ChatOpenAI\n",
    "\n",
    "model = ChatOpenAI(openai_api_key=openai_api_key, model= \"gpt-3.5-turbo\")"
   ]
  },
  {
   "cell_type": "markdown",
   "metadata": {},
   "source": [
    "We test the model by asking a simple question "
   ]
  },
  {
   "cell_type": "code",
   "execution_count": 3,
   "metadata": {},
   "outputs": [
    {
     "data": {
      "text/plain": [
       "AIMessage(content='Kendrick Lamar is an American rapper, songwriter, and record producer. He is widely regarded as one of the greatest and most influential rappers of his generation. Lamar has released several critically acclaimed albums, including \"good kid, m.A.A.d city,\" \"To Pimp a Butterfly,\" and \"DAMN.\" He has won numerous awards, including multiple Grammy Awards, and has been praised for his lyrical content, storytelling, and social commentary in his music.', response_metadata={'token_usage': {'completion_tokens': 95, 'prompt_tokens': 13, 'total_tokens': 108}, 'model_name': 'gpt-3.5-turbo-0125', 'system_fingerprint': None, 'finish_reason': 'stop', 'logprobs': None}, id='run-7c1700c9-a35d-4e8b-8488-f117812ef6ee-0', usage_metadata={'input_tokens': 13, 'output_tokens': 95, 'total_tokens': 108})"
      ]
     },
     "execution_count": 3,
     "metadata": {},
     "output_type": "execute_result"
    }
   ],
   "source": [
    "model.invoke(\"Who is kedrick Lamar ?\")"
   ]
  },
  {
   "cell_type": "markdown",
   "metadata": {},
   "source": [
    "![Image2](Images/image2.png)"
   ]
  },
  {
   "cell_type": "markdown",
   "metadata": {},
   "source": [
    "During this project, we will use **StrOutputParser** to extract the answer of the model as a string. "
   ]
  },
  {
   "cell_type": "code",
   "execution_count": 4,
   "metadata": {},
   "outputs": [
    {
     "data": {
      "text/plain": [
       "'The Los Angeles Dodgers won the World Series during the COVID-19 pandemic in 2020.'"
      ]
     },
     "execution_count": 4,
     "metadata": {},
     "output_type": "execute_result"
    }
   ],
   "source": [
    "from langchain_core.output_parsers import StrOutputParser\n",
    "\n",
    "parser = StrOutputParser()\n",
    "\n",
    "chain = model | parser\n",
    "chain.invoke(\"What MLB team won the World Series during the COVID-19 pandemic?\")"
   ]
  },
  {
   "cell_type": "markdown",
   "metadata": {},
   "source": [
    "# 2) Introducing prompt template "
   ]
  },
  {
   "cell_type": "markdown",
   "metadata": {},
   "source": [
    "We want to provide the model with some context and the question. Prompt templates are a simple way to define and reuse prompts."
   ]
  },
  {
   "cell_type": "code",
   "execution_count": 5,
   "metadata": {},
   "outputs": [
    {
     "data": {
      "text/plain": [
       "'Human: \\nAnswer the question based on the context below. If you can\\'t \\nanswer the question, reply \"I don\\'t know\".\\n\\nContext: Mary\\'s sister is Susana\\n\\nQuestion: Who is Mary\\'s sister?\\n'"
      ]
     },
     "execution_count": 5,
     "metadata": {},
     "output_type": "execute_result"
    }
   ],
   "source": [
    "from langchain.prompts import ChatPromptTemplate\n",
    "\n",
    "template = \"\"\"\n",
    "Answer the question based on the context below. If you can't \n",
    "answer the question, reply \"I don't know\".\n",
    "\n",
    "Context: {context}\n",
    "\n",
    "Question: {question}\n",
    "\"\"\"\n",
    "\n",
    "prompt = ChatPromptTemplate.from_template(template)\n",
    "\n",
    "# To print an example\n",
    "prompt.format(context=\"Mary's sister is Susana\", question=\"Who is Mary's sister?\")"
   ]
  },
  {
   "cell_type": "markdown",
   "metadata": {},
   "source": [
    "![Image3](Images/image3.png)"
   ]
  },
  {
   "cell_type": "markdown",
   "metadata": {},
   "source": [
    "We can now chain the prompt with the model and the output parser."
   ]
  },
  {
   "cell_type": "code",
   "execution_count": 6,
   "metadata": {},
   "outputs": [
    {
     "data": {
      "text/plain": [
       "\"I don't know\""
      ]
     },
     "execution_count": 6,
     "metadata": {},
     "output_type": "execute_result"
    }
   ],
   "source": [
    "chain = prompt | model | parser\n",
    "chain.invoke({\n",
    "    \"context\": \"Mary's sister is Susana\",\n",
    "    \"question\": \"Who is Nathan sister?\"\n",
    "})"
   ]
  },
  {
   "cell_type": "markdown",
   "metadata": {},
   "source": [
    "It works, let's Goooooooo !!!! 😁🔥  \n",
    "Now we can pass to the next step. "
   ]
  },
  {
   "cell_type": "markdown",
   "metadata": {},
   "source": [
    "# 3) Combining chain"
   ]
  },
  {
   "cell_type": "markdown",
   "metadata": {},
   "source": [
    "We can combine different chains to create more complex workflows. For example, let's create a second chain that translates the answer from the first chain into a different language.\n",
    "\n",
    "Let's start by creating a new prompt template for the translation chain:"
   ]
  },
  {
   "cell_type": "code",
   "execution_count": 7,
   "metadata": {},
   "outputs": [],
   "source": [
    "translation_prompt = ChatPromptTemplate.from_template(\n",
    "    \"Translate {answer} to {language}\"\n",
    ")"
   ]
  },
  {
   "cell_type": "markdown",
   "metadata": {},
   "source": [
    "We can now create a new translation chain that combines the result from the first chain with the translation prompt.\n",
    "\n",
    "Here is what the new workflow looks like :"
   ]
  },
  {
   "cell_type": "markdown",
   "metadata": {},
   "source": [
    "![Image4](Images/image4.png)"
   ]
  },
  {
   "cell_type": "code",
   "execution_count": 8,
   "metadata": {},
   "outputs": [
    {
     "data": {
      "text/plain": [
       "'Marie a une sœur.'"
      ]
     },
     "execution_count": 8,
     "metadata": {},
     "output_type": "execute_result"
    }
   ],
   "source": [
    "from operator import itemgetter\n",
    "\n",
    "translation_chain = (\n",
    "    {\"answer\": chain, \"language\": itemgetter(\"language\")} | translation_prompt | model | parser\n",
    ")\n",
    "\n",
    "translation_chain.invoke(\n",
    "    {\n",
    "        \"context\": \"Mary's sister is Susana. She doesn't have any more siblings.\",\n",
    "        \"question\": \"How many sisters does Mary have?\",\n",
    "        \"language\": \"French\",\n",
    "    }\n",
    ")"
   ]
  },
  {
   "cell_type": "markdown",
   "metadata": {},
   "source": [
    "After we understand this, we can start our project by finding how to transcript a youtube video. "
   ]
  },
  {
   "cell_type": "markdown",
   "metadata": {},
   "source": [
    "# 4) Tanscripting the youtube video "
   ]
  },
  {
   "cell_type": "markdown",
   "metadata": {},
   "source": [
    "The context we want to send the model comes from a YouTube video. Let's download the video and transcribe it using OpenAI's Whisper.\n",
    "Note that, we can use any type of video not only for youtube with the whisper model. "
   ]
  },
  {
   "cell_type": "code",
   "execution_count": 9,
   "metadata": {},
   "outputs": [],
   "source": [
    "import os\n",
    "import whisper\n",
    "\n",
    "# Nom du fichier de transcription à créer\n",
    "TRANSCRIPTION_FILE = \"transcription.txt\"\n",
    "\n",
    "# Vérifier si le fichier de transcription existe déjà\n",
    "if not os.path.exists(TRANSCRIPTION_FILE):\n",
    "    # Charger le modèle Whisper\n",
    "    whisper_model = whisper.load_modrrel(\"base\")\n",
    "\n",
    "    # Transcrire l'audio en utilisant Whisper\n",
    "    transcription = whisper_model.transcribe(YOUTUBE_AUDIO, fp16=False)[\"text\"].strip()\n",
    "\n",
    "    # Sauvegarder la transcription dans un fichier texte\n",
    "    with open(TRANSCRIPTION_FILE, \"w\") as file:\n",
    "        file.write(transcription)\n"
   ]
  },
  {
   "cell_type": "markdown",
   "metadata": {},
   "source": [
    "Let's read the transcription and display the first few characters to ensure everything works as expected."
   ]
  },
  {
   "cell_type": "code",
   "execution_count": 10,
   "metadata": {},
   "outputs": [
    {
     "data": {
      "text/plain": [
       "'President Trump, welcome back to Meet the Press. Thank you. I want to dive right into this a lot to '"
      ]
     },
     "execution_count": 10,
     "metadata": {},
     "output_type": "execute_result"
    }
   ],
   "source": [
    "with open(\"transcription.txt\") as file:\n",
    "    transcription = file.read()\n",
    "\n",
    "transcription[:100]"
   ]
  },
  {
   "cell_type": "markdown",
   "metadata": {},
   "source": [
    "This model is nice ! No bad lol ! "
   ]
  },
  {
   "cell_type": "markdown",
   "metadata": {},
   "source": [
    "Since the number of words from the transcript is very high, we cannot use the transcript directly as context in our chatchot. We have to divide it into several **small chunks**."
   ]
  },
  {
   "cell_type": "markdown",
   "metadata": {},
   "source": [
    "# 5) Splitting the transcription"
   ]
  },
  {
   "cell_type": "markdown",
   "metadata": {},
   "source": [
    "Since we can't use the entire transcription as the context for the model, a potential solution is to split the transcription into smaller **chunks**. We can then invoke the model using only the **relevant chunks** to answer a particular question:"
   ]
  },
  {
   "cell_type": "markdown",
   "metadata": {},
   "source": [
    "![Image5](Images/image5.png)"
   ]
  },
  {
   "cell_type": "markdown",
   "metadata": {},
   "source": [
    "Let's start by loading the transcription in memory using **TextLoader**:"
   ]
  },
  {
   "cell_type": "code",
   "execution_count": 11,
   "metadata": {},
   "outputs": [
    {
     "data": {
      "text/plain": [
       "[Document(metadata={'source': 'transcription.txt'}, page_content=\"President Trump, welcome back to Meet the Press. Thank you. I want to dive right into this a lot to get to. Good. There are a number of things that make your campaign unprecedented. You are the first former president to run for reelection in more than 100 years. You are facing foreign developments. You have an incredibly significant lead in the GOP primary polls. But I want to ask you this, Mr. President, why do you want to be President again? Well, it's a very simple answer, and I can give it very easily. It's called Make America Great Again. Our country is in serious trouble. I don't think we've ever been so low in terms of certainly opinion, world opinion, and country opinion. People are devastated. They look at what's happening with millions of people coming in, millions of illegal immigrants coming into our country, flooding our cities, flooding the countryside. I think the number is going to be 15 million people by the time you end this. By the end of this year, I think the real number is going to be 15 million people. They come from prisons. They come from mental institutions and sanos-alems. They say, sir, please don't use that term, but it's true. They're terrorists at a level. It was very interesting. On NBC, I saw a poll, and I saw some statistics. It said in 2019, there were no terrorists. They caught no terrorists. There was nothing that they saw. There was no anything. And now, this year, it's a record number like they've never seen before. So we did a great job with the border. We did a great job with the military. We did a great job with inflation. We had essentially no inflation. We had a great economy. And we didn't have enough Afghanistan disaster. We were getting out, but we were going to get out with dignity and pride, not the way they got out. That was a surrender and an embarrassment and horrible. We gave $85 billion worth of equipment to the Taliban. We had death so much, death and so much horrible destruction. And it was a terrible thing. I think it was the lowest point in the history of our country. Now, with all of that, we can change it and we can make America great again. And that's why I'm doing this. Well, and you have talked about a lot. We are going to delve into a number of issues you brought up. We've talked about all the people coming across the border. Of course, a lot of families also coming across the border as well. I want to talk to you about that a little bit later on. But first, let's talk about the breaking news today. We learned just a short time ago that the president's son, Hunter Biden, was indicted by a federal grand jury on three gun charges. Given that, Mr. President, can you continue to say that there are two systems of justice? Well, I think there's no question about it. He had a plea deal that was the deal of the century. The art of the deal. You could write a book on it, the art of the deal, and all of a sudden that was broken up by a judge who was able to bring a judge actually who was able to see through what was happening. And it's a sad situation. I mean, nobody should be happy about this. I'm not happy about it. Nobody is. It's a very sad thing. It's so bad for our country. But if you think about it, I've been under investigation from the day I came down the escalator and a phoning investigation, fake investigations, investigations that I beat every single time, still under investigations. But it's a very sad thing, and it's a slippery slope. But Mr. President, it's very dangerous for our country. But you talked about the plea deal, but now Hunter Biden's been indicted. He's facing a very serious charges. Okay. Doesn't that undercut your entire argument that there are two systems of justice in this country? Well, it's one of 12 charges. There are 12 possible charges. And he's still under investigation. And this is the only charges. And he's still under investigation. Well, he's still under investigation. Well, sure. Maybe. I mean, let's see what happens. But this is the only charge that doesn't affect Joe Biden. This was the gun charge. But gun charge is a very serious. People have had gun charges and gone to jail for a lot of years. I pardon some people who I thought it was just horrible what happened, but they were put in jail for many, many years. Rappers and others. So, look, it's a bad thing. But it's one of 12. And it's the one charge that doesn't affect Joe Biden. Well, of course, there's no evidence that the president has any link to his son's business dealings. Let me ask you, though. I don't necessarily know. Well, I don't know. He called in. You mean he called in all these meetings? He was calling in on the meetings. He was put on speakerphone and every single day. The witness has to find. Literally, many, many calls. And what about the fact that he got rid of the prosecutor for a billion dollars? Well, the witness testified. You don't know the word of this prosecutor. We're not giving you a billion dollars to Ukraine. He said that. I mean, there are a lot of things here. Mr. President, the witness who testified, though, said that he never heard any discussion of business when President Biden was put on the plane. Well, wait, you saw the prosecutor thing on television. Because I saw it on your network. He said, you don't get rid of this prosecutor. I'm not giving one billion dollars. That was looked into as well. And as you know, there was never any wrongdoing to it. If I ever said that, quid pro quo. Let's move on to what a second Trump term would look. Sure. When you launched your campaign in March, you told the crowd, quote, I am your retribution. What does that mean? What does that look like? I think retribution is talking in terms of I have to protect people. What they're doing to people is so horrible. They're putting people in jail for long periods of time. Firemen, policemen, accountants, even lawyers, they're in prisons for years now. And don't even have trials in some cases. And if you look at Antifa and other groups, practically nothing happened to them. They burned down Portland. They burned down Minneapolis. They took over Seattle. I mean, they literally took over a big chunk of the city. People died and nothing happened to them. We have to protect all people. But when you talk about retribution, are you talking about directing your attorney general to try to go after your political end of the day? When I talk about retribution, I'm talking about fairness. We have to treat people fairly. These people on January 6, they went, some of them never even went into the building. They're being given sentences of, you know, many years. Are you going to part? Nothing is happening. Well, I'm going to look at them. I certainly might, if I think it's appropriate. No, it's a very, very sad thing. And it's, they're dividing the country so badly and it's very dangerous. Well, Mr. President, we're going to delve into that a little bit later on. But I want to stay on this idea of what you mean by retribution. Are you looking to appoint an attorney general who will prosecute the people you tell them to prosecute? I'm looking to appoint an attorney general who's going to be tough on crime and fair. Very simple. And go after your political enemies? No, no, I would never do that. But Biden has done that. Look, Biden, these aren't indictments against me. These are Biden indictments. This isn't God coming down and very fairly said, oh, you spoke badly about it election. The election was rigged. There's no question about that. There's so much proof on it. Even if you go to the more modern day proof with the, they call it Twitter files, FBI and Twitter. Or you take a look at the Amazon stuff or the Google stuff or you take a look at 2000 mules. You take it all of the ballot stuffing that's on tape. You take a look at the fact that the legislatures didn't approve a lot of the things that were done in the elections and they had to. And we could go on forever. We could go on forever. But, no, I want somebody that's going to be strong, respected, tough and fair. Just to go back to a couple of the points you said, the ballot stuffing, that's something that's been debunked. It hasn't happened. As you know, let's on camera. But let's, I do want to keep moving forward. Of course. It's on camera. Hundreds, even thousands and thousands of people, you take a look through the vote. Take a look. It's on camera. But Mr. President, you know, public officials, not one of them. You can't say it. You have thousands of pictures. You're bomb. People. I know you have to say that for your network, but you shouldn't say it. Because that's the problem. The news has lost such power. Let's say I'm tracking Mr. President. Let's say I'm tracking this question. You're saying, it hasn't. We have thousands of, essentially, motion pictures of people stuffing the ballot boxes. But Mr. President, they're not stuffing the ballot boxes. And you've been told that by your top law enforcement officials. But let's stay on track. Because we have so much ground to come. You have people that went and voted in one place, another place, another place, as many as I understand, 28 different places in one day with seven, eight, nine ballots of peace. They can't do any more because it would look too phony. These were professional people. They were stuffing the ballot boxes. It's there. Mr. President, I mean, it's there to see a lot of people do like, look at that. 60 different cases all across the country. You lost that. But let's stay on track. We lost because the judges didn't want to hear them. Mr. President, if this were ever before a court, we would win so easy. There is so much evidence that the election was rigged. And you may not even put the section on your show. And you'll have to decide what you want to do. But people know it was rigged. But the media, when I first got involved in politics, as you know, there's no evidence of that. We have so many different topics. Truman Menus evidence. I want to talk about what it is. Mr. William, you agree there was Twitter files, right? Mr. President. You agree there were 51 intelligence agents that lied. You agree with that? I'm not the one who's being interviewed. Let's stay on track because I want to talk about that. That's rigging the election. That's what voters want to hear about, Mr. President. Let's talk about what's happening on Capitol Hill right now. So, Mr. McCarthy announced that he was launching an impeachment inquiry this week into President Biden. Do you see this as a part of the retribution that you see? No, not at all. I think, look, you look at the terrible things that have been happening with respect to Biden. Look at everything, Jamie Comer, Jim Jordan, who have fantastic people and very legitimate people. I watched Jamie Comer just a little while ago talking about a lot of different facets of what's going on. And he was the one that said, I guess there were 12 things where it looks like it's stone-cold guilty. And the gun charge is only one of the 12. He said, this is the only one that doesn't implicate Joe Biden. So, my question for you, did you talk to Speaker McCarthy about this House impeachment inquiry? No, no. I don't think he'd do that. No, no, I don't think he'd do that. I mean, he wouldn't do it based on me, no. Did you talk to your Republican allies on Capitol Hill and say you should support this and no, I don't have to talk. Then we're proactive than I am. They think it's terrible. I will say this. They think I was treated very unfairly. I mean, when I was impeached for a perfect phone call and now it turned out to be perfect, I hope you will admit that at least because I was right, 100 percent right. But I was impeached for a perfect phone call and how sad that is. And we had 196 to nothing for Republicans, very unusual for the Republican Party. I was so proud of him. 196, the entire House, not one person, to sent it. And then other than Romney, who sort of gave me half a vote, but we had 100 percent in the Senate, people think I was treated very unfairly. Well, the people who... And I know, I know I was treated. The people who voted for that impeachment say that the phone call that you referenced was about a quid pro quo. It was perfect. But... My phone call was perfect. My phone call was saying, please investigate any crimes that you see. And by the way, I mandated to do that as the president of the United States. And it was really a call to congratulate him on winning the election. But... Mr. President, what... When you talk about quid pro quo, please don't talk about quid pro quo because there wasn't none at the call at all. Where there was a quid pro quo was when Biden said very strongly, we're not going to give him the billion dollars unless they get rid of the prosecutor. That's a quid pro quo. Mr. President, let me take a step back here because a lot of voters say what they want to talk about right now is your vision for the future. Sure. And I've been traveling to a lot of the early voting states and they say that your focus on the past is a problem for them. What do you say to those voters? I have no focus on the past except that you have to learn from history. You have to learn from the past. We had an election that was very, very terrible. It was a terrible thing for a country. And you have to learn from that. You can't forget that and just go... Now, with all of the things that we said, I had the best economy maybe in history. We're going to talk about it next. Let's say... I had the best economy in history and I'm going to do it again. I had the best energy. We were energy independent soon to be energy dominant. Now we're begging for energy. I mean, what they've done to this country, they're destroying our country. We're going to talk about the economy in just a minute. But before we move on from Capitol Hill, do you think Republican hardliners should abandon their threat to shut down the government over their spending priorities? Now that there is this in people's country... No, I think if they don't get a fair deal, we have to save our country. We have $35 trillion in debt. We have to save our country with... So you shut down the government? You'd support that? I'd shut down the government if they can't make an appropriate deal, absolutely. Okay, let's talk about the economy. And I want to start by talking about this big standoff between the auto workers and the big three auto-manuvers. Yeah. My question for you, Mr. President, who side are you on in this? I'm on the side of making our country great. The auto workers are not going to have any jobs when you come right down to it, because if you take a look at what they're doing with electric cars, electric cars are going to be made in China. The auto workers are not going to have any... I'll tell you what, the auto workers are being sold down the river by their leadership and their leadership should endorse Trump. The reason is you have choice, like in school. I want school choice. I also want choice for cars. If somebody wants gasoline, if somebody wants all electric, they can do whatever they want. But they're destroying the consumer, and they're destroying the auto workers. The auto workers will not have any jobs, Kristen, because all of these cars are going to be made in China. The electric cars automatically are going to be made in China. So let's talk about UAW's leadership. The president, Sean Fein, has withheld his endorsement of President Biden. But this is what he had to say about you. Quote, another Donald Trump presidency would be a disaster. How would you win that endorsement? Well, if that's the case, I probably won't win his... I don't know the gentleman, but I know his name very well. And I think he's not doing a good job in representing his union, because he's not going to have a union in three years from now. Those jobs are all going to be gone, because all of those electric cars are going to be made in China. That's what's happening. Number one, number two, the electric cars are much more expensive, and they don't go far enough. So if somebody wants to take a little bit of a loan just like the trucks, if somebody wants to take a little bit of a long ride, let's go to Maine, or let's go to Kentucky from New York. You can't do it. I mean, you have to stop all the time. They don't go far enough. They're very expensive. They have a lot of drawbacks now. With that being said, some people are going to want them, some people are going to travel short distances. What they're doing with our trucking industry is a disaster, because they want all electric trucks. And a truck on a large, with a large tank, large gasoline or diesel capacity, can go up to 2,000 miles. An electric truck goes 300 miles. So what are these guys going to do? They're going to stop every 300 miles and recharge their truck and spend three hours. Let's move on and talk about another big picture issue when it comes to the economy. The issue of interest rates inflation, something that you've talked a lot about. The Federal Reserve is obviously independent. But I wonder, Mr. President, if you are re-elected, would you direct your Federal Reserve chair to lower interest rates? Well, you know that I put a lot of pressure on him. It was outside pressure, because nobody knows whether or not. You can really do that. But I did, because I thought his interest rates were too high. And he ultimately dropped his interest rates, the same gentleman, as you know. But it was a lot of pressure. I mean, I was very active on that. Right now, interest rates are very high. They're too high. People can't buy homes. They can't do anything. I mean, they can't borrow money. The banks don't have the money. The banks aren't lending the money. It's the banks. By the way, Chase Manhattan Bank, Bank of America, they discriminate against conservatives. It's a disgrace. And they shouldn't be allowed to. And I'm going to do something about that. But you take a look at banks throughout the country. And I think because of the regulators, but you take a look at Bank of America and Chase, they discriminate against conservatives and Republicans. What do you think, Mr. President? I will give you plenty of evidence. OK. All right. Well, let's stay on track with this question, though. So just to be very clear, if you were reelected, would you direct your Fed chair to lower interest rates? Depends. Depends. Depends. Depends where inflation is. But I would get inflation down because drill we must. We will be drilling for oil. We are going to become, again, energy independent. We are going to reduce our debt because we're also going to become energy dominant. You know, we were ready to go dominant within a matter of months. We would have been making so much money. We have more oil. I call it liquid gold under our feet than any other country. Saudi Arabia, Russia, and there's no country with more. And it's sweet. It's the finest. We have the best. You know, we're taking it from Venezuela. You know what it is? TAR. It's the worst. Mr. President, are you going to appoint a new Fed chair if you're reelected? Well, I guess he would have two years left or something like that. So we'll see. OK. All right. You know the word jaw boning. I did a lot of jaw boning against him. And he ultimately lowered interest or we had low interest rates. We had the best housing market ever. We had people buying homes. A continent. Today, people can't buy homes. Economists are looking at some of the figures right now. The fact that the unemployment rate is at 3.8%. And they say it looks like the US may not dip into a recession. What do you make of that assessment? I don't know. People are going to, they say that and then you end up in a depression. They say you're going to do great, you end up bad. And the opposite. These, most of them don't know what they're doing. It's a touch. It's a feel. And I predicted a lot of markets. I predicted a lot of things, frankly. You know, they say Trump was right about everything. I think that the way it's going now, you're going to have to, things are not going right now very well for the consumer. Bacon is up five times. Food is up horribly. Worst in energy. Energy is starting to go up at a level that we haven't seen in a long time, meaning a couple of years since he took over. Because I had energy prices very low. I had gasoline very low. We have to get the energy down, which they will never do. And they kept it artificial because they took the strategic reserves, which I had a lot to do with filling up for the first time ever. They took the strategic reserves. And he issued it to everybody so that he could keep the gas prices down. Now, strategic reserves are the lowest level they've ever been at. And we need that for war. And there are a lot of factors that have contributed to that. One, no. The big factor is the fact that he took that or that. Let's talk about taxes. And he wanted to have low gas prices for an election. And now we have nothing left. Mr. President, there are a lot of factors, including global factors that went into that. Let's talk about taxes, though. I don't know why people stick up. You have so much when he makes bad decisions like you. Mr. President. I don't know why. And I have a lot of respect for you. And you were very fair in the debate. But I don't know why you and other people say, oh, it's OK that he destroyed this strategic petroleum reserves. I mean, why do you do that? Or it's OK that he has opened borders. Mr. President. In your position, not quite as good, said this morning, oh, having open borders is a wonderful thing. I don't know why. And I think that's why the media has lost so much credibility. No, we're not sticking out to this. We're just having a conversation. Let me talk to you about taxes and your differences with President Biden over taxes. Sure. He wants to raise corporate tax rates to 28%. It's reported you want to lower them to 15%. Is that true? I'd like to lower them a little bit if we could. But what I want to do is we have to get some income coming. And when I lower taxes, we took in more revenue. To 15%? You know that when I depends. It depends on where we are at the time. A lot happens in a year. But when I lower taxes, I cut taxes tremendously, created tremendous jobs. So it more importantly, we had more revenue with lower taxes than we did with higher taxes. You also added $8 trillion to the national debt. Your GOP challenger, Nikki Haley, made that point saying, quote, the truth is that Biden didn't do this to us. Republicans did this to us to give a point. We had a thing happen to us. We had the greatest economy in history. And then we got hit with COVID. And we had to keep this beautiful thing going. And if I didn't do that, if we didn't put some money and nobody knew what COVID was, remember, this was a new thing that came in. Somebody said it's dust coming in from China. It came from China. They tried and denied it. Or they tried for a little while. And we didn't let it. It came from Wuhan, actually, which now they agree. Everybody's now agreeing that it came from Wuhan. I said that years ago. But we had to do things that were very severe. We had to let some money come out. We were going to, we were in the verge of doing something that was amazing. We were going to have energy at a level bigger than Russia and Saudi Arabia combined. That energy was going to be sold to Europe and all other places. The prices would have come down. We were going to make a fortune and we were going to start paying off debt. Instead, we got hit with COVID. People didn't need oil because nobody was driving all over the world. I mean, frankly, it was a disaster. What China did to the world with COVID is something that we're going to get to the bottom of. And they have to pay something back. You know, nobody can pay back the cost of all those lives and all the money that was lost. But nobody can pay back the lives and all of the damage it was caused, including China. But you know what? They have to pay something back. They have to do something. What do you say to her? Nikki Haley, no. I mean, I know Nikki Haley very well. She said, I'm the greatest president. She left. She said, I'm the greatest president. Now she's running for office and she says something. Look, look, Nikki Haley doesn't know anything about it. She's a politician. She knows nothing about it. Very nice woman. Some people like that, I would say. But she left office. She said, first, strongly. I will never run. He was a great president. And then in some cases, the greatest president in my lifetime, in one case, said the greatest president ever. Now she's running. Nikki Haley has nothing to do with this. We will, we will going to make a fortune for our energy. We will going to send the energy to Europe. Europe was going to pay us tremendous amounts of money. And I'll tell you, you would have never had the Ukraine monster at all. It would have never happened. Russia would have never got just by sheer force of personality. But beyond personality, what happened is when oil had $100 a barrel, and by the way, it's right there right now, again, Putin makes a fortune on this war. You know, everybody said, oh, I can't afford it. If Biden allowed my policies to stay in place, oil would right now be at $40 a barrel, and Putin wouldn't be able to afford it. We are going to get to the war in Ukraine. But first, I do want to talk about the issue of abortion, which is important to a lot of voters all across the country. Just this week, women in Idaho and Tennessee, I don't know if you saw this, filed suit against their state saying their lives were put at risk after they were denied abortion services, because their state's restrictive laws put in place after rho is overturned. So my question for you, Mr. President, is how is it acceptable in America that women's lives are at risk? Doctors are being forced to turn away patients in need or risk breaking the law? Ready? A little bit of a long answer. I hope you have time. I hope you have time. I'm here for long to have. So you have Roe v. Wade. For 52 years, people, including Democrats, wanted it to go back to states so that states could make the right. Roe v. Wade, I did something that nobody thought was possible, and Roe v. Wade was terminated, who was put back to the states. So people, pro-lifers, have the right to negotiate for the first time. They had no rights at all, because the radical people on this are really the Democrats that say after five months, six months, seven months, eight months, and even after birth, you're allowed to terminate the baby. The Democrats aren't saying that. I just have to, Democrats are not saying that. Of course I do. You have a Virginia governor, a previous governor, who said after the baby is born, you will make a determination, and if you want, you will kill that baby. The baby is now born. Democrats writ large are not talking about that. Only 1% of late-term abortions happen in, always in the state of the fight. They are the radical people, because nobody wants to see abortion after five months and six months and seven months. And now it's going to, it gave people that believe, and pro-life, look, just see understand, it's pretty much 50-50. It's a 50-50, which is amazing. If you look at the charts, it's been 49-51, it's been like that for many years. It goes both ways, 51, both ways, ready? I was able to do something which gave at least pro-life people a voice. Now it's going to work out. Now the number of months will be determined. And you're going to have something where everybody comes together. It's a buzzer, you, though, that women say their lives are being put at risk. Do you feel you bear any responsibility because, as you say, you are responsible. What's going to happen, this is an issue that's been going on for a long time and it's a very polarizing issue. Because of what's been done, and because of the fact we brought it back to the states, we're going to have people come together on this issue. They're going to determine the time because nobody wants to see five, six, seven, eight, nine months. Nobody wants to see abortions when you have a baby in the womb. I said, with Hillary Clinton when we had the debate, I made a statement, ripped the baby out of the womb in the ninth month. You're allowed to do that, and you shouldn't be allowed to do that. Again, no one is arguing for that. That's not a part of anyone's form. The Democrats are able to kill the baby after birth. Let me talk to you. Nobody wants that. That Democrats don't want that. So we're going to come together. I want to know what you want. I want to know what you're going to do with your recovery. We are going to come together. You signed federal legislation that would ban abortion at 15 weeks. No, no, let me just tell you what I do. I'm going to come together with all groups, and we're going to have something that's acceptable. Right now, to my way of thinking, the Democrats are the radicals. Because after four and five and six months, but you have to say this, after birth, you have New York State and other places that pass legislation. Where you're allowed to kill the baby after birth. Mr. President, I want to give voters who are going to be weighing in on this election. A very clear sense of very standard. I think they're all going to like me. I think both sides are going to like me. But let's just have to have to have to have to have to have this question. You're asking me a question. What's going to happen is you're going to come up with a number of weeks or months. You're going to come up with a number that's going to make people happy. Because 92% of the Democrats don't want to see abortion after a certain period of time. If a federal ban landed on your desk if you were reelected, would you sign it at 15 weeks? Are you talking about a complete ban? A ban at 15 weeks. Well, people are starting to think of 15 weeks. That seems to be a number that people are talking about right now. Would you sign that? I would sit down with both sides and negotiate something and we'll end up with peace in that issue for the first time in 52 years. I'm not going to say I would or I wouldn't. I mean, DeSanct is willing to sign a five week and six week ban. Would you support that? I think what he did is a terrible thing and a terrible mistake. But we'll come up with a number. But at the same time, Democrats won't be able to go out in six months, seven months, eight months and allow an abortion. And Kristen, you have to look at this because you said no. You have some states that are allowed to kill the child after birth and you can't allow that. But Mr. President, again, no one is calling for a child to be killed after birth. No one's calling for that. But you have legislation. But let me just ask you. You have legislation in certain states where it's allowed. Mr. President. The governor of Virginia, previous governor, who was a work job. Maybe he was governor. I call him the Michael Jackson governor. No one's talking about that governor. That governor. That governor said you can kill the baby after birth. Mr. President, this is about what you would do if you were reelected. As you know, you upset the talk. We will agree to a number of weeks which will be where both sides will be happy. We have to bring the country together on this issue. Mr. President, when you talk about negotiating, I think a lot of people think to themselves, this is an issue that they care about deeply in their heart. Why care about it? They know where they stand. And they want to know where you stand. As you know, some anti-abortion groups are really looking for some clarity from you. So let me just ask you to put a fine point on this. Should the federal government impose any abortion restrictions or should it be completely left up to the states? No, I don't think you should have. I don't think you should be allowed to have abortions well into a pregnancy. But what about the question I just asked you? We're going to agree. No, we're going to agree to a number of weeks or months or however you wanted to find it. And both sides are going to come together. And both sides, both sides, and this is a big statement. Both sides will come together. And for the first time in 52 years, you'll have an issue that we can put behind us. At the federal level? It could be state or it could be federal. I don't frankly care. So you're not committed to abandon the federal government? I will say this, everybody, including the great legal scholars, love the idea of Roe v. Wade terminated so it'd be brought back to the states. It sounds like that's what you think, too. I would say this from a pure standpoint, from a legal standpoint, I think it's probably better, but I can live with it either way. It's much more important than number of weeks is much more important. But something will happen with the number of weeks, the amount of time, after which you can't do it. And you know what? The most powerful people that are anti-abortion are okay with that now. You know what? They weren't okay with that even a year ago. Your former vice president, Mike Pence, believes that a fetus should have constitutional rights. Do you believe that, Mr. President? Well, Mike Pence said something about 15 weeks, too, which was a big change for Mike Pence, because Mike Pence had no exceptions. I have exceptions, by the way. I think people should have exceptions. I think if it's rape or incest or the life of the mother, I think you have to have exceptions. Does a fetus have constitutional rights, Mr. President? And a lot of people, when they don't have exceptions, now, I will tell you that I think most people, most Republicans, are willing to go life of the mother, rape, incest. I think most of them are there. But should a fetus have constitutional rights, Mr. President? Well, I don't know what he's saying, because before he wanted, you know, you couldn't have a- What are you saying? Now all of a sudden he's saying 15 weeks. I said, wow, where did that come from? That's a radical change. Look, something is going to happen that's going to be good for everybody. And that's what I'm- I'm almost like a mediator in this case. They wanted Roe v. Wade terminated because it was inappropriate. We got it done. Something is going to happen. It's going to be a number of weeks. Something is going to happen where the both sides are going to be able to come together. And then we'll be able to go on to other things like the economy or military- Are you saying a federal ban with exceptions? Is that what you're saying? What I say is very simple, because you can't put words in my mouth like that. I just want to understand- I'm just wondering if you can hear me talk about this issue. And I think talk about it very productively. It could be a state ban. It could be a federal ban. But Democrats want that too. Democrats don't want to see abortion in the seventh month. Okay, I speak to a lot of Democrats. They want a number. But there is a number. And there's a number that's going to be agreed to. And Republicans should go out and say the following. Because I think the Republicans speak very inarticulately about this subject. I watch some of them without the exceptions, et cetera, et cetera. I said, other than certain parts of the country, you can't- You're not going to win on this issue. But you will win on this issue when you come up with the right number of weeks. Democrats don't want to be radical on the issue most of them, some do. They don't want to be radical on the issue. They don't want to kill a baby in the seventh month or the ninth month or after birth. And they're allowed to do that, and you can't do that. I have a very robust foreign policy section to get to. Okay. I do want to give you an opportunity to talk about some of your legal challenges. So if we could do that first and then we'll move on to foreign policy. You are facing four indictments. Excuse me. Biden, political indictments. He said to the attorney general- He said he said nothing to do with this. He said to the attorney general, indict him. They put in New York D.A.K.S., which everybody admits isn't even against. There's no proof of that, Mr. President. They're- They're not there, it's no proof of that. You know what? He started something that's a very slippery slope. He said, I've got a guy that's beating me in the polls. I'm beating all the Republicans by a lot, and I'm beating him by a lot. I have somebody that's- That's beating me in the polls, indict him. And they- not only that, they took their top person in the Department of Justice and put him into the Manhattan D.A.'s office. They're dealing with Fannie Willis all the time. Mr. President, these are from the general- Appointed Special Counsel to investigate you, President Biden, and President Biden's son, Hunter, who was also indicted today. But I do want to- Because President Biden does not fall within the Presidential Records Act, and frankly, you don't ever hear anything about the Special Counsel, but they gave me this deranged person named Jack Smith. He's a deranged lunatic. We- I fall within the Presidential Records Act. It's very simple. It's a civil thing. In fact, the New York Times of all institutions did a story, and it was headlined, please, please, please, Mr. President, could we take a look at the documents? I said in the story that the only way you can get documents from a president is if you go there and say, please, because this is civil, and they won't even have a lawsuit. They may have a civil lawsuit at most, but they probably don't even have a civil lawsuit. And this year, it never had been an indictment. There's no criminal. Now, there is criminal for Joe Biden, because he was a senator, and he was a vice president. Well, the charge has to be sent- And there's no- Vice president- The presidential record act. But let me ask my questions so we can get to foreign policy. No, wait a minute. This comes within the presidential records. Let me ask- That's what it's about. Let me just ask these questions, and then we can move on to some other topics. You are facing foreign indictments. 91 felonics. If you would say it properly, I'm facing four Biden indictments. He told the Justice Department to indict him, or Mary Garland said, let's indict him. Let me ask you this, Mr. President. They indicted their political opponent? I just want to hear from you on this. I want to know what's in your head. When you go to bed at night, do you worry about going to jail? No, I don't really. I don't even think about it. I'm built a little differently, I guess, because I have had people come up to me and say, how do you do it, sir? How do you do it? I don't even think about it. These are corrupt people that I'm dealing with. They're destroying our country. I don't even think about it. All I think about is making the country great, making America great. Look, these are political opponents. These are political, these are banana republic indictments. These are third world indictments. The President of the United States sees how we're doing. We have a movement, the likes of which has never happened in this country before. And you see it with the polls. I mean, I'm up on these people by 60 points and 59 points. I don't mean at 50, not I'm leading them by 59. You almost say like, why are they campaigning? Aisa Hutchinson. He's at zero. Christie's at two. Other ones are at one. DeSanctimonious is at nine. I just see a poll come. I mean, I'm leading him by 60 points. Mr. President. You say, why are they doing it? But here's what they did. They saw this happening. And he went to the Attorney General of the United States. And he told them in Daitrum. There's just no evidence of that, Mr. President. But let's stand still. I want Mr. President. I want to talk to him. Mr. President, wait a minute. Wait, wait, wait. Could I say one thing? Look at all the lies he's told over the last couple of weeks. He said he was at the World Trade Center and he wasn't. He said he flew airplanes, right? He didn't. He said he drove trucks. And he didn't. Everything he says is like a lie. It's terrible. Mr. President, I want to stay. Even his handicap, you know, if he said it's a six, he's not a six. I want to stay focused on you for the purposes of this interview. Okay? Because it's important that we hear from you about all of this. Well, I'd like you to, but you keep interrupting me. Tell me, Mr. President, tell me what you're doing. Interrupting me. Tell me, Mr. President, tell me what you see when you look at your mug shot. I see somebody that loves this country in me, that loves this country. I see tremendous unfairness. I think very few people would have been able to handle what I handled. When I was coming down the escalator with Melania, I was already under investigation because they saw how well I was doing in the polls. And it just got worse and worse. And we caught them. We said they were spying on our campaign to turn out to be true. They had the fake dossier that turned out to be true. It was paid for by the Democrat Party. It was all fiction. All of these things happened in Peachman Hoax number one and Peachman Hoax number two. I've been treated very badly, and I've won every single time. When you say, do I sleep? I sleep. I sleep. Because I truly feel that in the end, we're going to win. I think we're going to win an election, the likes of which nobody's ever seen before. I don't think anything's going to stop it. Nothing's going to stop it. Because people see what's happened to our country. We're not respected in the world. Look at other countries. Look at what's happened. Everybody's going to the side of China. Russia. Saudi Arabia. We're going to talk about that. No, no, Mr. President, I want to give you a little bit of the world. But let's get through this. And then I want to talk to you about all of those issues you just talked about, Mr. President. By the way, do you think your former chief of staff, Mark Meadows, is still loyal to you? He just pleaded not guilty in the joint. Well, I hope he's loyal to me. I mean, I didn't know anything wrong. Do you worry about him flipping? I didn't know anything wrong. Okay, let's talk about Georgia. I want to talk about that phone call that you made to Georgia's Secretary of State, a Republican. By the way, that was even more perfect than my call to... Let's talk about it. The President of Ukraine. Okay. There's a perfect call. Just before you start, many top legal scholars, almost everyone, but many top have analyzed that phone call. That was a phone call made in front of, I guess, seven or eight lawyers, Brad Rathensberger, the head who, by the way, last week said, I didn't do anything wrong. He said, that was a negotiation. Brad Rathensberger, who I was dealing with, I appreciate that he said that, but he said, last week, I didn't do anything wrong. Let's talk about it so we can move on. You said in the call. Let me just tell you one other thing. When I spoke, I knew I was probably being taped. I didn't ask, but I knew I was probably being taped. You know, they illegally taped me because they taped me in Florida. It's a two-party state. You know that, right? So they illegally taped the call. But forget about that for a second. I knew that there were many lawyers in the phone from the other side. There were many people. There were many people in the phone. When I told them, I said, the election was rigged. I said all sorts of things about the election, which I believe at 100%. They told you why? They told you why. Look, I have all the facts. In one way, I look for a trial because it was so dishonest, okay? So rigged and such a dangerous thing for our country. We have to have borders and we have to have fair elections. We have neither. But I want to talk about the border. I want to talk about the border, but we've guess it. One I spoke in front of Brad Rathensberger, who again, last week said, I didn't do anything wrong. How does it like you were asking for him to come up with 11,000 votes? No, and you know that. You're terrible when you say that you have to a bad start because what I said is very simple. I got cheated in this election. He told you you didn't. And all I need is like 11,000. Whatever the number was. Brad Rathensberger, who's in the audience. I got cheated in the audience. I was like, how do I get cheated? You didn't get cheated. Well, he said that, but we have to go and see. You know, there's some court cases out there. We want to go into Fulton County and we want to see the real votes. And it's so hard. He said they looked into it. The election had been certified. They could have been certified. They could have been certified. I don't want them. I want to look into it. I would say that if we got access to the votes, which we're close to getting in court, as you know, if we got access to those votes, if we look in, you will find numbers that you wouldn't believe. More importantly, let me just say this. I want to get through this, Mr. President. You have to just hear me out for a second. Foreign policies. We had, because you know, you say something and then you want to go into the next subject. We had many people in the line. When I said, I spoke for an hour. I knew that many people were in the line. I knew that it was the end. Who is, who, I happen to be a really smart person? Who is going to be talking badly when I have lawyers and many other people in the line? Nobody's going to say something bad. But if it was bad, why didn't they say, sir, that was very inappropriate of you to say? Nobody said that. Nobody said, sir, it was only a long time after the call that somebody said, oh, maybe he said something wrong. They said, sir, there's no evidence. This is a whole, just like Russia. Russia, Russia, Russia. Just like Ukraine, Ukraine, Ukraine. There's an ox, let me tell you. I spoke to them on the phone and it was left. I think something to the effect, okay, we'll get together tomorrow. Nobody said, sir, you shouldn't speak. If I said something incorrect, one of the lawyers for the state of Georgia, which I love, one of those lawyers would have said, sir, you have to take that back. That's an inappropriate thing. The Republican Secretary said there was no evidence to fraud. He said he'd looked into it. The election had been certified three times when you made a call. Talking about a different subject. If I said something wrong in the call, he or one of his many lawyers that were in the call would have said, it's inappropriate what you just said. Nobody said that. We had a double phone call. They said there's no evidence. He just said, sir, fraud. He also said, I did nothing wrong last week. Do you have any regrets about that call? No. None whatsoever. None whatsoever. I called to complain about an election. Okay. And I have every right to do that. Do you think I have a right to complain about an election? You have a right to take your case to court, which you did 60 times. No, I didn't do 60 times. They wouldn't hear it based on all sorts of crazy. They wouldn't hear. We never got. We never got a trial. Judges would look at stuff saying, I'm not getting involved. They didn't want to get involved. Let's keep moving so we get through. If you take a look at the evidence, we have so much evidence. If you take a look at the evidence, even you I could convince. You were going to hold that press conference, but you never did with the evidence. No, because I'm using it in my court case. Okay. I want to ask you about the case related to Mar-a-Lago. A new charge suggests you asked a staffer to delete security camera footage so it wouldn't get into the hands of investigators. Okay. It's false. It's false. But let me tell you what. Would you testify to that under? I'm going to testify to that under oath. It's a fake charge by this deranged lunatic prosecutor who lost in the Supreme Court and he tried to destroy lots of lives. He's a lunatic. So it's a fake charge. But more importantly, the tapes weren't deleted. In other words, there was nothing done to them. And they were my tapes. I could afford them. I didn't even have to give them the tapes. I don't think. I think I would have won a court. When they asked for the tapes, I said, sure, they're my tapes. I could afford them. I didn't even have to give them. Just so you understand, though, we didn't delete anything. Nothing was deleted. So that's false. The people who testified. Number one, the statement is false. Much more importantly, when the tapes came and everybody says, they weren't deleted. We get 100%. Okay. And just so you know, I offered them. I said, if you want to look at tapes, you can look at them. Let's move on to January 6th and the allegations that you tried to subvert the election. And again, I just want to give you a chance to talk about this because voters want to hear about this. The most senior lawyers in your own administration and on your campaign told you that after you'd lost more than 60 legal challenges that it was over. Why did you ignore them and decide to listen to a new outside group? Because I didn't respect them. You'd hire people. You'd hire people. Sure, but that doesn't mean you know, like you hire them. You never met these people. You get a recommendation. They turn out to be rhinos or they turn out to be not so good. In many cases, I didn't respect them. But I did respect others. I respected many others. That said, the election was really good. We have many people. And it's my choice. I happen to know that the election was right. I know it because I have so much, there's so much proof of ballot stuffing. You know, it's amazing. Right just a little while ago, in terms of the modern history, where the 51 intelligence agents said, very specifically, they lied. They all lied. And they said about the laptop that it was Russia, disinformation. That was a lie. That had a huge impact on the election. In fact, the pulses say over 10 points. I didn't need 10 points. I needed one tenth of a point. If you take a look at the Twitter files with the FBI and Twitter dealing, that had a huge impact on the election. Just those things. But in addition to that, when you say you need to have ballot stuffing, you have a lot of them. When you say you needed one tenth of a point, you needed one tenth of a point. I needed a very small one. I think somebody said 22,000 votes. To win? Yeah. If I would have had another 22,000 votes over the whole... But look, they rigged the election. If you look at Pennsylvania... Mr. President, you're saying you needed more votes. To win the election. Are you acknowledging you didn't win? If you look at all of the statistics, all of the votes, they say 22,000 votes, over millions and millions of votes, 22,000 votes. So when they do Twitter files or when they have 51 intelligence agents come out and lie that the laptop from hell was Russia disinformation. And now they find out it's not. But they knew that at the time. They cheated on the election in that way too. I just want to be clear, though. Are you saying you needed those votes in order to win? Are you acknowledging you didn't win? I'm not acknowledging. No, I say I won the election. Okay. Even though, again, your lawyers told you you didn't win. No, no. Did you just let me understand? Some people told me that. Okay. But many people told me the opposite. You just see you called some of your outside lawyers. You said they had crazy theories. Why were you listening to them? Were you listening them because they were telling you what you wanted to hear? You know who I listened to myself. I saw what happened. I watched that election and I thought the election was over at 10 o'clock in the evening. You were listening to your instincts. My instincts are a big part of it. It's been the thing that's gotten me to where I am, my instincts. But I also listened to people. There are many lawyers. I could give you many books. There are books that are written on how the election was rigged. There are numerous books that were written on how the election was written. Just to be clear, were you listening to your lawyers' advice or were you listening to your own instincts? I was listening to different people and when I added it all up, the election was rigged. There are books that you called a Rift Shots, though. In fact, Molly Hemingway wrote a great book. Oh, were you calling the Shots Ultimate? Yes, me. Molly Hemingway was highly respected and great. She wrote a book, a bestselling book called Rigged. Were you calling the Shots, though, Mr. President, ultimately? As to whether or not I believed it was rigged or sure. Okay. It was my decision. But I listened to some people. Some people said that. Like guys like Bill Barr. He was a stiff, but he wasn't there at the time. But he didn't do his job because he was afraid. You know what he was afraid of? He was afraid of being impeached. He was petrified to be impeached. And he's, how do you not get impeached? Don't do anything. We've heard so much, Mr. President, about that day, the actual day of January 6th from other people. But quite frankly, we haven't heard from you about your own perceptions of how that day unfolded. You talked about, we've heard to talk about the rally. And I'm curious about what happened when you got back to the White House. I know you spent most of the day in the dining room. What were you doing in there? How were you watching it unfold? So let me just tell you about January 6th. First of all, I had very little to do with January 6th. I was asked to speak. And I was the president of the United States. I'm allowed to do that. But I was asked to speak. Other groups, I think it was women's groups. A lot of people were involved in that. And it was incredible. It was incredible. It was, I think, the largest group I've ever spoken. You never see that. You never see pictures of the group that I was speaking to. I think it was the most people, and I've spoken to some very large groups. Of thousands of people were there. And it was a beautiful, beautiful site. But just so you understand, I went and I spoke. And by the way, peacefully and patriotically. And all of that, which wasn't reported, which wasn't reported. But when I spoke, I have had senators go up. I said, they said, I've never heard you speak so moderately. You were very moderate. What happened when you got to the White House? Well, wait, wait. Let me just say. So I spoke. And then I went back. I wanted to go down peacefully and patriotically to the Capitol. Secret service who I've great respect for said, sir, it's better if you don't do that. It could be unsafe because they did me because of riots. It because, you know, it takes one guy with bad intentions, OK? So I didn't have a dispute with them. You know, you had that one person said, I grabbed the man around the neck. Actually, I wish I was so strong to be able to do that. These are all tough guys. Smart guys. I dispute that account. Disputed. Who wouldn't dispute it? She's crazy as the count I've ever heard. You mean that I was in the beast? And she said, I was in the beast. And the secret service didn't work. So I took a guy who was like a black belt in karate and grabbed his neck and tried to joke out. What happened? How ridiculous. Just so you understand. And I have great respect for Secret Service, by the way, they're fantastic. The Secret Service said, sir, it would be better if you didn't. I said, I'd love to do it. They said it would be better. And so we went back to the White House. I see you understand. I spoke. I made a very nice speech. I was in Maxine Waters at calls for people's death. And some of these, take a look at what these other people say. It's so ridiculous. What have we got to the White House now? Where did you watch all of the events? Much more importantly, I offered two days before, two or three days before, 10,000 soldiers, right? And they were going to go because everybody was telling me, I knew it was going to be big in terms of the crowd because everybody I spoke to said, hey, I'm going down on January 6th. I'm going down. I'm going to listen to you speech, et cetera. And there are other speakers. I wasn't the only speaker. There were many speakers. But what a minute. I go for 10,000 people to the mayor of Washington, DC, Nancy Pelosi, both of them, Nancy Pelosi, and to the mayor of Washington. And they turned it down flat. And the police commissioner was very nasty about it to her. And he testified. And here's what happened. The January 6th unselect committee of thugs and horrible people. The unselect committee destroyed all the evidence. They say they didn't do that. We did ask them. We did ask January 6th. Well, they announced that they destroyed and deleted most of the evidence. They say some of the evidence is still under review. I want to know what I want to know about your perspective. Mr. President, they put out an announcement that they destroyed the evidence and they destroyed all the stuff having to do with Nancy Pelosi and they wouldn't let her testify. We said, why isn't she testify? You know, it was a whole rig deal. Why isn't she testify? I offered them 10,000. Mr. President, I want to know what you did on that. You're the president of the United States. She's a judge of she. Tell me how you watched this all unfold. Were you in the dining room watching TV? I'm not going to tell you. I'll tell people later in a appropriate time. Just so you understand, however. What did you say? The Capitol was under attack, though. Let me just tell you. In the moment that the Capitol was... Did you see the statements I made in the Oval Office and just outside of the Oval Office? Absolutely. Oh, ho. Our police are great. We love our police. We love everybody. Go home. That was... That was it. That was it. That was it. Well, that's the damn new. I don't know. Three hours after the attack started. But then we started to put out before that. I want to know who you called on that day. Nancy Pelosi. I don't know if I... Why would I tell you that? Listen, Nancy Pelosi was in charge of security. She turned down 10,000 soldiers. If she didn't turn down the soldiers, you wouldn't have had January 6th. Did you call military or law enforcement? What? Did you call military or law enforcement at the moment the Capitol was under attack? I'm not gonna tell you anything. I told you. Let me put it this way. I behaved so well. I did such a good job. Nancy Pelosi turned down 10,000 soldiers. If she didn't do that. But now I understand... Nancy Pelosi doesn't have a authority. I understand that the police testified against... You have the authority. The police testified against the... Listen to me, Kristen. Listen to me. I understand that the police testified against her. The chief, very strongly against her. Capitol police. Great people. They testified against her. And they burned all the evidence. Okay. They burned all the evidence. They destroyed all the evidence about Nancy Pelosi. What do you say to people who wonder why you... You as Commander-in-Chief, you have authorities that Nancy Pelosi doesn't have. No, no. She has authority over the ghetto. Why did you send help in that moment, though? Uh, frankly, just so you understand. I assume that she took care of it. She turned down... But when you realized that the National Guard wasn't coming... Well, you didn't realize anything until quite a while. National Guard not coming. I asked it to be there three days in advance. And she turned it down. She says that that request was never officially made. Oh, just so you know... Let me just tell you. Let me ask you about... The mayor of... The mayor of D.C. gave us a letter saying that she turns it down. Okay, we have it. Nancy Pelosi also was asked and she turned it down. The police commissioner... I'm talking about the day, yeah. Please wait a minute. Yeah. I said that he wanted it and Nancy Pelosi wouldn't accept it. She's responsible for January 6th. Let's... Mr. President. Nancy Pelosi is responsible. And the J.S. President... You have... You have authorities that no one else has as the commander in chief. Do you think you showed leadership on that? Yes, absolutely. I do. And I showed Com. Uh, Nancy Pelosi is responsible for the security and she did a terrible job. And by the way, from what I understand, they burned all the evidence. But... Okay. She says she never got an official request. They say they did. But that's what you're saying. A room... Let's talk about... And her daughter taping her... Let's talk about... ...the daughter happened to be a documentary with... ...Patential partners. Let's talk about Patential partners. Patential partners. Let's talk about Patential partners. Because a lot of your supporters are wondering about that. Proud Boys leader Enrique Tario was sentenced to 22 years in jail. Now that you know what the sentence is, 22 years in jail, will you give him a pardon? Will you give other Proud Boys a pardon? I don't know him. I never met him. I never heard of him until I started reading this sentence. Will you pardon him? But I want to tell you, he and other people have been treated horribly. Antifa killed people and those guys didn't even get tried in many cases. There's no way... They put these guys in jail for 17, 18, and 22 years. They didn't kill anybody. Some of them never even went into the Capitol. Some of them weren't even in DC and they got a 22 or a 17-year sentence. 16, 18. More than a thousand people. 22, wait a minute. Yeah, a thousand people. How many people... Let me ask you this. How many people were charged for destroying Portland? How many people were charged for burning down the police precinct and the courthouse? Will you pardon him, though? Will you pardon him? In Minneapolis. I'd certainly look at it. I'd look at that and I'd look at all the other people that have suffered. The J6 people. Mr. President, let me ask you one final question. Let me tell you one question. That didn't even go into the building. Have suffered gravely. And you have to say one system of justice, right? You take a look at what's gone on in Portland. They burn down the city. The city is in shambles to this day. The store owners don't even rebuild storefronts anymore. They put up two by fours. I want to move on to foreign policy, Mr. President. Why do you do that? Why do you... Give me a horrible question and then you don't let me answer it. You're off to a bad start. I'm telling you. Mr. President, I just... I want to make sure you get... We get to tell you. I want to make sure you get... We get to talk about foreign policy as well. No, but I don't mind. I have all the time in the world. You do? Okay. I have all the time in the world. Why is it that the people, antifa people, and very bad people that burn down Portland, burn down Minneapolis, burn down so much, a New York city, what they did in New York City, and they were barely charged. And yet the people in Washington, in some cases, never even went into the building. They've been persecuted. They've been persecuted. People who were charged in January 6th, some of them were charged with sedition, some of them were charged... I don't think we're looking at everything. Violating the Capitol. But many of these people have been persecuted. They've been persecuted. What they've done to them. And they didn't do this to the people that burned down. You take a look at Portland. It's like a burned down hulk of a city, including the federal courthouse. Mr. President, if you were reelected, would you pardon yourself? I could have pardoned myself. Do you know what? I was given an option to pardon myself. I could have pardoned myself when I left. People said, would you like to pardon yourself? I had a couple of attorneys that said, you can do it if you want. I had some people that said, it would look bad if you do it, because I think it would look terrible. I said, here's the story. These people are thugs, horrible people, fascists, Marxists, sick people. They've been after me from the day I came down the escalator with Melania. And I did a great job as president. People are acknowledged. Great economy, great jobs, great discreet. That rebuilt the military, space for everything. I could go on forever. Let me just tell you. I said, the last thing I'd ever do is give myself a pardon. I could have given myself a pardon. Don't ask me about what I would do. I could have the last day. I could have had a pardon done. That would have saved me all of these lawyers and all of these fake charges. These Biden indictments. They're all Biden indictments. Political. They indicted. They want to arrest their political opponents. Only third world countries do that banana republic. So, ready? I never said this to anybody. I was given the option. I could have done a pardon of myself. You know what I said? I have no interest in even thinking about it. I never even wanted to think about it. And I could have done it. And all of these questions you're asking me about the fake charges. You wouldn't be asking me because it's a very powerful. It's a very powerful thing for president. I was told by some people that these are sick lunatics that I'm dealing with. Give yourself a pardon. Your life will be a lot easier. I said I would never give myself a pardon. Even if you were reelected in this moment? Well, I think it's very unlikely. What did I do wrong? I didn't do anything wrong. You mean because I challenge an election. They want to put me in jail. I challenge an election. But I challenged a crooked election. So it's not one of the reasons I don't like it now. It was a rigged election. I challenged a rigged election. And now I'm going to win for a third time. Let's see. And I just hope they have better vote counters. Let's move on to foreign policy, Mr. President. I want to talk about the war in Ukraine. I want a big picture, get a sense of how you see this conflict. Do you see the security of Ukraine as critical to the security of the United States? Okay. Let me talk about it with that interruption. Ukraine would have never happened to our president. If this election weren't rigged, Ukraine would have never happened. You would have hundreds of thousands of people, including lots of soldiers still living. The cities would be flourishing or at least up. These are cities that can never be rebuilt again. Certainly not the way they were. Magnificent buildings all ripped down like a demolition site. It would have never happened. For two reasons. Number one. And most importantly, Putin. It's a lot of respect for me. And he wouldn't have played games. And I told him, don't ever go in. And he would never have gone in. This was only after I left that this happened. Likewise, President Xi would never ever be talking about Taiwan, the way he's talking about it right now. And they didn't. They weren't talking about it. It was only after I left. He would have never gone in. Equally as importantly, oil prices would have been at $40 a barrel instead of $110 a barrel. So he wouldn't have been able to afford going in. He actually is the only nation that made money because oil has been driven up so high by stupid people like Biden. Biden is an incompetent man. And what happened is oil. In fact, you're going to hit a new high very soon again. That means Russia. Russia makes money from oil. Russia is going to make a lot of money. And because they make a lot of money, there's no reason for them to settle other than humanitarian reasons and let's not assume people are going to be so humanitarian. So Putin would have never gone in because oil was at $40 a barrel. And he wouldn't have been able to afford to have gone in. At $100 a barrel, he made a fortune. And that's one reason. The other reason he wouldn't have gone in is because I said, don't go in. Don't even think about it. Just to that key question, though, Mr. President, do you think that our security, the United States security, is linked to Ukraine's security? I think that Europe has to do more. We're in for $200 billion there, and for $25 billion. And it affects them more than it affects us. It certainly affects them much more than it affects us. So you do think that it's linked to some way? I think Europe is taking advantage of a stupid president. You've probably... Look, Biden should say to them, you have to equalize. You have to catch up. You know, Europe is about the same size as our economy. If you add them all up, add the countries up. It's about the same size. And Biden should say to them, like I did with NATO. You know, NATO, they all owed money. I said, get your money in. And we had over $430 billion put in almost immediately. And the head of NATO, Stoltberg, Secretary-General, nice guy, he said to me, most amazing thing I've ever done. And he said it publicly, too. He said, Bush would come in, make a speech and leave. Obama would come in, make a speech and leave. Trump came in and said, you guys aren't paying your bills. And I got him to pay. You know, they asked me something, which hasn't been reported, but the media knows it. We had a meeting of the 28 countries at that time, 28 countries. And they said to me, are you saying, sir, because I said you got to pay your bills? Are you saying, sir, that you won't protect us against Russia if we don't pay? I said, sorry to tell you, that's what I'm saying. You know what happened? Yeah. They started sending us money like... And now he's never given credit for it. But you wouldn't even have a nato of a wasn't for me. Let me ask you. But here's a thing about your country's have to start paying their share. I think so. Because we are having to do with Ukraine. Because we're 200 billion and they're at 20 or 25 billion. It's so unfair. Let me ask you about your strategy, though, because you have said you want to end this war in 24 hours. You saw the meeting between Kim Jong Un and President Putin. Do you think that complicates your strategy if you were reelected to try to end this war in Ukraine? It would have been easier if the war didn't start. And you'd have hundreds of thousands of people living most importantly. But it would have been a lot easier if it didn't. But I can get it done and I can get it done quickly. How do you do it? There's another example. You talk about Kim Jong Un. You talk about Kim Jong Un, right? I got along great with Kim Jong Un after the first month or two when we were sparring. But I got along great with him. We were in no danger. There was President Biden said, and he felt even now, and President Obama told me when we sat down. Obama told me, and Biden still did this day, except I don't think he knows he's only came with two sentences together. But President Obama told me our biggest threat is from North Korea. We're going to end up in a war. We didn't end up with a war with North Korea. We were going to make a deal. I would say I would have had a deal made with North Korea shortly after the election had the election not been written. How do you end this war, though, talking of deals? How do you end this war in 24 hours? How do you exactly, because if I did, people understand. If I tell you exactly, I lose all my bargaining chips. I mean, you can't really say exactly what you're going to do. But I would say certain things to Putin. I would say certain things to Zelensky, both of whom I get along. Don't forget, Zelensky did something that was very honorable. They asked him, it didn't stop these animals from impeaching me, but you know, one of those things. They asked him to Trump do anything wrong. He said, absolutely not. It was a very normal phone call. You can't say that about Biden's call, because Biden, what he did was horrible with a prosecutor. But he said something that was very honorable. He could have grandstanded and said, oh, I felt threatened. He said that President Trump did absolutely nothing wrong on the phone call. Some people here, you say, you're going to end the war in 24 hours. And they worry. That means President Putin is going to get to keep the territory he's on long and free. I make a fair deal for everybody. But nope, I'd make a fair deal for everybody. Doesn't mean that. That's something that could have been negotiated. Because there were certain parts, Crimea, and other parts, of the country that a lot of people expected could happen. You could have made a deal. So they could have made a deal with as less territory right now than Russia has already taken to be honest. And you could have made a deal where nobody was killed. They had a deal. They would have had a Ukraine country. Now nobody even knows if Ukraine is going to be totally taken over. I will say this. Something's going on. And it's not good for Ukraine, because the news is no longer in the way. The news is no longer reporting about the war. The fake news. They don't report about the war anymore. You don't find much reporting. That means that Ukraine's losing. I see very little reporting from NBC, your network. I see very little reporting from NBC, ABC, from CBS, from anyone, about the war. It used to be you'd go and you'd watch, even a couple of months ago, you'd watch all of this great strategy. The spring offensive never happened. Because they were met with a wall of armaments and bombs. President Putin's worried people are losing interest in this war. As you're saying. No, I'm just saying. And how not to sing anything about the war? To me, that means that probably because the press is fake and very discredited, that would mean that, you know, look, here's my attitude on the war. I just want people to stop being killed. You know, I was asked by that ridiculous CNN group during my town hall. Who side do you own? I said, I'm on the side of people stop being killed. I don't want to see people killed. They're being killed by the thousands and thousands and thousands. And that's the side of mine. I don't want, and you know what? People like that answer, to be honest. And I stay with that same answer. I want people to stop being killed. I want people to stop being killed. I want to ask you about something President Putin said about you this week. I don't know if you've seen it. This was very recent. President Putin said, quote, we surely hear that Mr. Trump says he will resolve all burning issues within several days, including the Ukrainian crisis. We cannot help but feel happy about it. What do you make of that? You welcome this war? Well, I like that he said that because that means what I'm saying is right. I would get him into a room. I'd get Zelensky into a room. Then I'd bring him together and I'd have a deal worked out. I would get a deal worked out. It would have been a lot easier before it started. Essentially for four years, I kept them from doing anything. Because you know what? I will tell you this. I've never said this. Ukraine was the apple of his eye. I said, don't ever do it. Don't ever do it. He would have never done it. But again, oil prices. He wouldn't have done it because of me but oil prices. The prices were so high that he had so much money. So he had all this money to prosecute the war. The one who drove up the prices was Biden. Given that President Putin has bombed maternity wards, 20,000 kids kidnapped from Ukraine by Russia. Mass graves. Do you welcome his support? His all but endorsement? Look, I had a very good relationship with him. And yet nobody was tougher on Russia than me. I stopped Nord Stream 2. You never heard of Nord Stream 2. That was the pipeline until I got involved. I said Nord Stream 2. People that were sophisticated, military people, and political people never heard of Nord Stream 2. I had it ended. The pipeline was dead. Biden came in and he approved it. There was nobody tougher than me with Russia. And yet I got along with Putin. Let me tell you. I got along with him really well. And that's a good thing, not a bad thing. He's got 1,700 nuclear missiles and so do we. But look, that's a good thing. Getting along is okay. But I got along through strength. And the war would have never happened. The war would have never happened. Now what's happened? It's so bad. The oil price is so high. It's hard to get it stopped. The oil price is so high. When he goes above $50 and $60 a bar, he makes a lot of money on the war. Now it's a humanitarian thing. It's a lot of different reasons. But I will get that war stopped very, very quickly. I want to talk about another region that you talked about. Let's talk about another region you talked about. China. If you were to cut a deal between President Putin and President Zelensky, do you run the risk of emboldening China to invade Taiwan? No. Not at all. Because China, he's another one I got along to, until we had the China virus come in. Once COVID came in, OK? It was like, you know, I made a great trade deal with China. One of the greatest deals ever made for the farmers and for the manufacturers. $50 billion here is a great deal. I don't even talk about it because once COVID came in, it was like, I don't want to talk about anything. I was a much different person. What happened to this world, not our country, the whole world, what happened with COVID. And it just shouldn't have happened. It shouldn't have happened. What happened? What China did to the world was so bad. But I had a great relationship with President Xi. Would you send Xi? I had a great relationship with President Xi, really great relationship. And he was going to stop fentanyl from coming in. He was going to do a lot of it. He was going to criminalize it if you made it. You know, in China, they have a death penalty for drug deals. He was going to make that with fentanyl deals too. But then the election didn't work out, and he never had to do that. I know you've been asked this, but very quickly, if China were to invade Taiwan, have you made a determination? Again, since voters are about to go to the polls, would you send the U.S. military into Taiwan if President Xi were to invade? President Biden says he would. I won't say, I won't say, because if I said, I'm giving away, you know, only stupid people are going to give that. I heard the other day, to San Camoney has said something about he was going to do this, or he was going to do that. I say, well, why is he saying the strategy? You can't say that. So when you asked me that question, I would never say that, because you give away all your options. But you don't take it off the table. I don't take anything off the table. If elected, you say you would order the defense department to use special forces to inflict maximum damage. I didn't say that. People said I said that. Okay, what would you do? I didn't say that. I would tell you what I'd do. Why would I say that? Because again, you don't want people to know your strategy. Now, people said they leaked and said things that I said this, or I said that, or I was going to hit them with Patriot missiles. The drug dealers in Mexico. But I will say, and horribly, that they kill 250,000 people in the United States every year. You never hear that. You never hear 100,000. I think it's much more. They destroy families because when you lose a son or a daughter to fentanyl, or a wife or anybody else, but when you lose a son or daughter, your life is destroyed. Their lives are destroyed. They've destroyed so many families. It comes through Mexico. Something's got to be done. If we were in war, we would lose 250,000 people. We're losing more people than you lose in just about any war that we've ever had. And we lose them on a yearly basis. Something has to be done, and it has to be done fairly quickly. Rondisanta says he's in this race to finish the border wall. What do you say to that? It's a republic. I built 500 miles of border wall. It was great. It was just what the, as you know, the border controlled board and everybody else. Border patrol, I had them in my office. I wanted to, we were going to do concrete plank, 40 feet high. They didn't want that. They wanted you to see through. They wanted to be steel, concrete and re-bore. I did everything. I gave them the wall that they wanted. You know, we tested it. We had mountain climbers. Tested the ones that, that's the wall we built. I built almost 500 miles of wall. We were then going to build another 200 miles of certain areas that all of a sudden people were coming into areas that they couldn't come into anymore. And we're all set to do that. It was all bought. And all Obama had to do. All Biden had to do. It could be Obama too, because a lot of people think he's calling the shot. So who knows? But all Biden had to do is go out and put it up. And he not only didn't put it up, he took it off the site, and they put it in yards hundreds of miles away. So that Texas and Arizona couldn't get it. I had the safest border in history. I had the best border in history. We had the lowest drug numbers for years and years and years, decades. We had the lowest drug numbers. We had the lowest human trafficking numbers. We had the least number of people coming across. All he had to do was go to the beach like he does all the time. If he went to the beach and didn't do anything, we'd have a great border right now. Final question, Mr. President. You have met with Prime Minister's, King's, Queen's, dictators. You've seen it all. As you think about the possibility of the second term, do you still think that democracy is the most effective form of government? I do. I do, but it has to be a democracy that's fair. This democracy is, I don't consider us to have much of a democracy right now. They indict their political opponent. Free speech is shot because the press is very dishonest. It's very dishonest. I have to say, even the way you fight me on simple questions like, you know, the border and this, you fight me so much. And I'm saying, why are you fighting me? You know, when I first ran the approval rating of the media was very high. And now it's very low. It made me below Congress, which is pretty hard to believe. People understand what's going on. We need a media that's free and fair. And frankly, if they don't have that, it's very, very hard to straighten out our country. Did you feel as President, you had enough power, though? If you were reelected, would you try to find ways for us to do this? To find ways, for example, there's a report you're looking into firing potentially people within the federal government who aren't necessarily perceived to be loyal. Would you need more power to do this? Well, just so you can see that's what the Democrats do. Okay, they do it in space. Would you do that? They do it at a level that you wouldn't believe. I mean, nobody's ever done. No, I wouldn't do that. I want great people, whether they're Republican or Democrat. I want great people. But I want people that love our country, not people that hate our country. Anything else you'd like to say? No, I think it's good. I think we did a lot. Is there any scenario by which, because Rondis Santos says, if you were elected, he'd have two terms. And you'd only have one more turn. Is there any scenario by which you would seek a third term in office? No. Just so you understand, when Dessantis says that, that means he's not your man. He's not your man. I know it because he's a very untalented guy. And he's proven that he started out everybody was talking to him after I worked him over a little bit. He's gone down the tubes. I think he's going to end up being number three or four. He just had a poll today. He was number four. And by the way, the one that was number two was 59 points behind. So, you know, it's very interesting. But when somebody says eight years, we need eight years. No. In six months to a year, many of the problems, almost all of the problems that you and I have just spoken about, will be solved. Anybody that says they need eight years, you don't want that person. Thank you, Mr. President. Thank you. I really appreciate it. Thank you very much. Good luck. We went all around the horn today and I appreciate it very much. Good luck on many years. Thank you. Thank you for giving me a little extra time. Thanks for watching. Stay updated about breaking news and top stories on the NBC News app or follow us on social media.\")]"
      ]
     },
     "execution_count": 11,
     "metadata": {},
     "output_type": "execute_result"
    }
   ],
   "source": [
    "from langchain_community.document_loaders import TextLoader\n",
    "\n",
    "loader = TextLoader(\"transcription.txt\")\n",
    "text_documents = loader.load()\n",
    "text_documents"
   ]
  },
  {
   "cell_type": "markdown",
   "metadata": {},
   "source": [
    "There are many different ways to split a document. For this example, we'll use a simple splitter that splits the document into chunks of a fixed size.\n",
    "\n",
    "For illustration purposes, let's split the transcription into chunks of 1000 characters with an overlap of 20 characters and display the first few chunks:"
   ]
  },
  {
   "cell_type": "code",
   "execution_count": 12,
   "metadata": {},
   "outputs": [],
   "source": [
    "from langchain.text_splitter import RecursiveCharacterTextSplitter\n",
    "\n",
    "\n",
    "text_splitter = RecursiveCharacterTextSplitter(chunk_size=1000, chunk_overlap=20)\n",
    "documents = text_splitter.split_documents(text_documents)"
   ]
  },
  {
   "cell_type": "markdown",
   "metadata": {},
   "source": [
    "# 6) Finding the relevant chunks and vector store"
   ]
  },
  {
   "cell_type": "markdown",
   "metadata": {},
   "source": [
    "Given a particular question, we need to find the relevant chunks from the transcription to send to the model. Here is where the idea of embeddings comes into play.\n",
    "\n",
    "An embedding is a mathematical representation of the semantic meaning of a word, sentence, or document. It's a projection of a concept in a high-dimensional space. Embeddings have a simple characteristic: The projection of related concepts will be close to each other, while concepts with different meanings will lie far away.\n",
    "\n",
    "To provide with the most relevant chunks, we can use the embeddings of the question and the chunks of the transcription to compute the similarity between them. We can then select the chunks with the highest similarity to the question and use them as the context for the model.\n",
    "We can now compute the similarity between the query and each of chunks. The closer the embeddings are, the more similar the chunk will be."
   ]
  },
  {
   "cell_type": "markdown",
   "metadata": {},
   "source": [
    "![Image6](Images/image6.png)"
   ]
  },
  {
   "cell_type": "markdown",
   "metadata": {},
   "source": [
    "We need an efficient way to store document chunks, their embeddings, and perform similarity searches at scale. To do this, we'll use a **vector store**.\n",
    "\n",
    "A **vector store** is a database of embeddings that specializes in fast similarity searches."
   ]
  },
  {
   "cell_type": "markdown",
   "metadata": {},
   "source": [
    "![Image7](Images/image7.png)"
   ]
  },
  {
   "cell_type": "code",
   "execution_count": 13,
   "metadata": {},
   "outputs": [],
   "source": [
    "from langchain_openai.embeddings import OpenAIEmbeddings\n",
    "embeddings = OpenAIEmbeddings(openai_api_key=OPENAI_API_KEY)"
   ]
  },
  {
   "cell_type": "markdown",
   "metadata": {},
   "source": [
    "# 7) Connecting the vector store with the chain "
   ]
  },
  {
   "cell_type": "markdown",
   "metadata": {},
   "source": [
    "We can use the vector store to find the most relevant chunks from the transcription to send to the model. Here is how we can connect the vector store to the chain:"
   ]
  },
  {
   "cell_type": "markdown",
   "metadata": {},
   "source": [
    "![Image8](Images/Image8.png)"
   ]
  },
  {
   "cell_type": "markdown",
   "metadata": {},
   "source": [
    "We need to configure a **Retriever**. The **retriever** will run a similarity search in the vector store and return the most similar documents back to the next step in the chain."
   ]
  },
  {
   "cell_type": "markdown",
   "metadata": {},
   "source": [
    "# 8) Settup Pinecone "
   ]
  },
  {
   "cell_type": "markdown",
   "metadata": {},
   "source": [
    "Use an in-memory vector store is not recommended. In practice, we need a vector store that can handle large amounts of data and perform similarity searches at scale. For this example, we'll use **Pinecone**.\n",
    "\n",
    "The first step is to create a Pinecone account, set up an index, get an API key, and set it as an environment variable PINECONE_API_KEY.\n",
    "\n",
    "Then, we can load the transcription documents into Pinecone:"
   ]
  },
  {
   "cell_type": "code",
   "execution_count": 34,
   "metadata": {},
   "outputs": [
    {
     "name": "stdout",
     "output_type": "stream",
     "text": [
      "147ff6c9-205f-48f8-b0f9-68984ec71762\n"
     ]
    }
   ],
   "source": [
    "from langchain_pinecone import PineconeVectorStore\n",
    "from langchain_core.embeddings.embeddings import Embeddings\n",
    "\n",
    "index_name = \"ytberag\"\n",
    "pinecone_api_key = os.environ.get(\"PINECONE_API_KEY\")\n",
    "print(pinecone_api_key)"
   ]
  },
  {
   "cell_type": "code",
   "execution_count": 37,
   "metadata": {},
   "outputs": [],
   "source": [
    "pinecone = PineconeVectorStore.from_documents(\n",
    "    embedding = embeddings, \n",
    "    documents=documents, \n",
    "    index_name=index_name)"
   ]
  },
  {
   "cell_type": "code",
   "execution_count": 38,
   "metadata": {},
   "outputs": [
    {
     "data": {
      "text/plain": [
       "[Document(metadata={'source': 'transcription.txt'}, page_content=\"These are third world indictments. The President of the United States sees how we're doing. We have a movement, the likes of which has never happened in this country before. And you see it with the polls. I mean, I'm up on these people by 60 points and 59 points. I don't mean at 50, not I'm leading them by 59. You almost say like, why are they campaigning? Aisa Hutchinson. He's at zero. Christie's at two. Other ones are at one. DeSanctimonious is at nine. I just see a poll come. I mean, I'm leading him by 60 points. Mr. President. You say, why are they doing it? But here's what they did. They saw this happening. And he went to the Attorney General of the United States. And he told them in Daitrum. There's just no evidence of that, Mr. President. But let's stand still. I want Mr. President. I want to talk to him. Mr. President, wait a minute. Wait, wait, wait. Could I say one thing? Look at all the lies he's told over the last couple of weeks. He said he was at the World Trade Center\"),\n",
       " Document(metadata={'source': 'transcription.txt'}, page_content=\"These are third world indictments. The President of the United States sees how we're doing. We have a movement, the likes of which has never happened in this country before. And you see it with the polls. I mean, I'm up on these people by 60 points and 59 points. I don't mean at 50, not I'm leading them by 59. You almost say like, why are they campaigning? Aisa Hutchinson. He's at zero. Christie's at two. Other ones are at one. DeSanctimonious is at nine. I just see a poll come. I mean, I'm leading him by 60 points. Mr. President. You say, why are they doing it? But here's what they did. They saw this happening. And he went to the Attorney General of the United States. And he told them in Daitrum. There's just no evidence of that, Mr. President. But let's stand still. I want Mr. President. I want to talk to him. Mr. President, wait a minute. Wait, wait, wait. Could I say one thing? Look at all the lies he's told over the last couple of weeks. He said he was at the World Trade Center\"),\n",
       " Document(metadata={'source': 'transcription.txt'}, page_content=\"World Trade Center and he wasn't. He said he flew airplanes, right? He didn't. He said he drove trucks. And he didn't. Everything he says is like a lie. It's terrible. Mr. President, I want to stay. Even his handicap, you know, if he said it's a six, he's not a six. I want to stay focused on you for the purposes of this interview. Okay? Because it's important that we hear from you about all of this. Well, I'd like you to, but you keep interrupting me. Tell me, Mr. President, tell me what you're doing. Interrupting me. Tell me, Mr. President, tell me what you see when you look at your mug shot. I see somebody that loves this country in me, that loves this country. I see tremendous unfairness. I think very few people would have been able to handle what I handled. When I was coming down the escalator with Melania, I was already under investigation because they saw how well I was doing in the polls. And it just got worse and worse. And we caught them. We said they were spying on our\")]"
      ]
     },
     "execution_count": 38,
     "metadata": {},
     "output_type": "execute_result"
    }
   ],
   "source": [
    "pinecone.similarity_search(\"Who is Donal Trump?\")[:3]"
   ]
  },
  {
   "cell_type": "code",
   "execution_count": 39,
   "metadata": {},
   "outputs": [],
   "source": [
    "\n",
    "from langchain_core.runnables import RunnableParallel, RunnablePassthrough"
   ]
  },
  {
   "cell_type": "markdown",
   "metadata": {},
   "source": [
    "We can create a map with the two inputs by using the RunnableParallel and RunnablePassthrough classes. This will allow us to pass the context and question to the prompt as a map with the keys \"context\" and \"question.\""
   ]
  },
  {
   "cell_type": "markdown",
   "metadata": {},
   "source": [
    "\n",
    "Let's setup the new chain using Pinecone as the vector store:"
   ]
  },
  {
   "cell_type": "code",
   "execution_count": 46,
   "metadata": {},
   "outputs": [
    {
     "data": {
      "text/plain": [
       "'Donald Trump is running for President again to \"Make America Great Again\" as he believes the country is in serious trouble.'"
      ]
     },
     "execution_count": 46,
     "metadata": {},
     "output_type": "execute_result"
    }
   ],
   "source": [
    "\n",
    "chain = (\n",
    "    {\"context\": pinecone.as_retriever(), \"question\": RunnablePassthrough()}\n",
    "    | prompt\n",
    "    | model\n",
    "    | parser\n",
    ")\n",
    "\n",
    "# We execute all the chain with a question \n",
    "chain.invoke(\"Why Donald Trump is here\")"
   ]
  },
  {
   "cell_type": "markdown",
   "metadata": {},
   "source": [
    "Our porject is done !!!   \n",
    "The next step is to build an interface with chainlit.   \n",
    "Follow the file **app.py** to do that. "
   ]
  }
 ],
 "metadata": {
  "kernelspec": {
   "display_name": "Python 3",
   "language": "python",
   "name": "python3"
  },
  "language_info": {
   "codemirror_mode": {
    "name": "ipython",
    "version": 3
   },
   "file_extension": ".py",
   "mimetype": "text/x-python",
   "name": "python",
   "nbconvert_exporter": "python",
   "pygments_lexer": "ipython3",
   "version": "3.11.5"
  },
  "orig_nbformat": 4
 },
 "nbformat": 4,
 "nbformat_minor": 2
}
